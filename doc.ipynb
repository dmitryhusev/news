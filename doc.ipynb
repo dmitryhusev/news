{
 "cells": [
  {
   "attachments": {},
   "cell_type": "markdown",
   "metadata": {},
   "source": [
    "Chapter 8: Custom User Model\n",
    "\n",
    "*Always use a custom user model for all new Django projects.*\n",
    "And instead of AbstractBaseUser use AbstractUser.\n",
    "*No mirgations* before implementing User model."
   ]
  },
  {
   "cell_type": "code",
   "execution_count": 8,
   "metadata": {},
   "outputs": [],
   "source": [
    "# settings.py\n",
    "\n",
    "INSTALLED_APPS = [\n",
    "# default apps\n",
    "\"accounts.apps.AccountsConfig\"\n",
    "]\n",
    "AUTH_USER_MODEL = \"accounts.CustomUser\""
   ]
  }
 ],
 "metadata": {
  "kernelspec": {
   "display_name": "venv",
   "language": "python",
   "name": "python3"
  },
  "language_info": {
   "codemirror_mode": {
    "name": "ipython",
    "version": 3
   },
   "file_extension": ".py",
   "mimetype": "text/x-python",
   "name": "python",
   "nbconvert_exporter": "python",
   "pygments_lexer": "ipython3",
   "version": "3.10.6"
  },
  "orig_nbformat": 4
 },
 "nbformat": 4,
 "nbformat_minor": 2
}
